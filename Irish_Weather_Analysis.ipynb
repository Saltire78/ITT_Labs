{
  "nbformat": 4,
  "nbformat_minor": 0,
  "metadata": {
    "colab": {
      "name": "Irish_Weather_Analysis.ipynb",
      "provenance": [],
      "collapsed_sections": [],
      "authorship_tag": "ABX9TyMr7CMYstHKPuGkGUbsCXzu",
      "include_colab_link": true
    },
    "kernelspec": {
      "display_name": "Python 3",
      "name": "python3"
    }
  },
  "cells": [
    {
      "cell_type": "markdown",
      "metadata": {
        "id": "view-in-github",
        "colab_type": "text"
      },
      "source": [
        "<a href=\"https://colab.research.google.com/github/Saltire78/ITT_Labs/blob/main/Irish_Weather_Analysis.ipynb\" target=\"_parent\"><img src=\"https://colab.research.google.com/assets/colab-badge.svg\" alt=\"Open In Colab\"/></a>"
      ]
    },
    {
      "cell_type": "markdown",
      "metadata": {
        "id": "6J40cspOP40J"
      },
      "source": [
        "##***Irish Weather Analysis***\r\n",
        "\r\n",
        "An analysis of the weather conditions of several Irish weather stations over a number of years, taken from the Met Eireann data files, as recorded on an hourly basis. The project will include:\r\n",
        "* Visualisation of the data in user-friendly trends\r\n",
        "* Comparisons of these trends on a regular basis\r\n",
        "* Machine Learning analysis to look from predictive analysis\r\n",
        "* Databasing the recordings to allow for data retrieval on a search basis, by criteria"
      ]
    },
    {
      "cell_type": "markdown",
      "metadata": {
        "id": "v-XnNc-WMTxv"
      },
      "source": [
        "## Importing Libraries and Data Manipulation\r\n",
        "Importing of the necessary libraries to run the required analyses and altering their data to the correct formats"
      ]
    },
    {
      "cell_type": "code",
      "metadata": {
        "id": "795fUIGEMLg7"
      },
      "source": [
        "import matplotlib.pyplot as plt # plotting\r\n",
        "import seaborn as sns\r\n",
        "import numpy as np # linear algebra\r\n",
        "import os # accessing directory structure\r\n",
        "import pandas as pd # data processing, CSV file I/O (e.g. pd.read_csv)\r\n",
        "import datetime as dt # date and time library\r\n",
        "from datetime import datetime # date and time functions\r\n",
        "import sqlite3"
      ],
      "execution_count": 4,
      "outputs": []
    },
    {
      "cell_type": "markdown",
      "metadata": {
        "id": "RRALjEyGN1ho"
      },
      "source": [
        "Data Source\r\n",
        "* Source file from Kaggle dataset"
      ]
    },
    {
      "cell_type": "code",
      "metadata": {
        "id": "0ZSxhT6nNwkN"
      },
      "source": [
        "# https://www.kaggle.com/conorrot/irish-weather-hourly-data"
      ],
      "execution_count": 5,
      "outputs": []
    },
    {
      "cell_type": "markdown",
      "metadata": {
        "id": "XQFg3sLkbf2p"
      },
      "source": [
        "Upload the dataset"
      ]
    },
    {
      "cell_type": "markdown",
      "metadata": {
        "id": "wAzVIaBmUott"
      },
      "source": [
        "* Local Drive\r\n",
        "* Save file from Kaggle site and store in local drive. Access via the following code:"
      ]
    },
    {
      "cell_type": "code",
      "metadata": {
        "id": "ugvaFg37UUrJ",
        "colab": {
          "resources": {
            "http://localhost:8080/nbextensions/google.colab/files.js": {
              "data": "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",
              "ok": true,
              "headers": [
                [
                  "content-type",
                  "application/javascript"
                ]
              ],
              "status": 200,
              "status_text": ""
            }
          },
          "base_uri": "https://localhost:8080/",
          "height": 72
        },
        "outputId": "fb75ba90-ddc1-4e4c-b182-dc50af76e1b5"
      },
      "source": [
        "#from google.colab import files\r\n",
        "\r\n",
        "#files.upload()"
      ],
      "execution_count": 6,
      "outputs": [
        {
          "output_type": "display_data",
          "data": {
            "text/html": [
              "\n",
              "     <input type=\"file\" id=\"files-29ae079f-6bc5-45b7-bfa4-8da8c25aeb9a\" name=\"files[]\" multiple disabled\n",
              "        style=\"border:none\" />\n",
              "     <output id=\"result-29ae079f-6bc5-45b7-bfa4-8da8c25aeb9a\">\n",
              "      Upload widget is only available when the cell has been executed in the\n",
              "      current browser session. Please rerun this cell to enable.\n",
              "      </output>\n",
              "      <script src=\"/nbextensions/google.colab/files.js\"></script> "
            ],
            "text/plain": [
              "<IPython.core.display.HTML object>"
            ]
          },
          "metadata": {
            "tags": []
          }
        },
        {
          "output_type": "stream",
          "text": [
            "Saving hrly_Irish_weather.csv to hrly_Irish_weather.csv\n"
          ],
          "name": "stdout"
        }
      ]
    },
    {
      "cell_type": "markdown",
      "metadata": {
        "id": "n1-THODMUtj_"
      },
      "source": [
        "* Google Drive\r\n",
        "* Access google drive and upload the file manually"
      ]
    },
    {
      "cell_type": "code",
      "metadata": {
        "id": "AVo1dpfwSpiR"
      },
      "source": [
        "#!pip install -U -q PyDrive\r\n",
        "#from pydrive.auth import GoogleAuth\r\n",
        "#from pydrive.drive import GoogleDrive\r\n",
        "#from google.colab import auth\r\n",
        "#from oauth2client.client import GoogleCredentials\r\n",
        "# Authenticate and create the PyDrive client.\r\n",
        "#auth.authenticate_user()\r\n",
        "#gauth = GoogleAuth()\r\n",
        "#gauth.credentials = GoogleCredentials.get_application_default()\r\n",
        "#drive = GoogleDrive(gauth)\r\n",
        "\r\n",
        "#link = 'https://drive.google.com/file/d/1GsLczoe7jLyer6dOjxQkOFXHgR7-NKwO/view?usp=sharing'\r\n",
        "#code = '4/1AY0e-g4Sq3NhWbfSh1ptYV9FigKorZmT_gvinj-Ejv8Jc0B4U5HC49mSvU0'\r\n",
        "\r\n",
        "#fluff, id = link.split('=')\r\n",
        "#print (id) # Verify that you have everything after '='\r\n",
        "\r\n",
        "#downloaded = drive.CreateFile({'id':id}) \r\n",
        "#downloaded.GetContentFile('hrly_Irish_weather.csv')  \r\n",
        "#df3 = pd.read_csv('hrly_Irish_weather.csv')"
      ],
      "execution_count": 7,
      "outputs": []
    },
    {
      "cell_type": "markdown",
      "metadata": {
        "id": "Mib0YGVlblKk"
      },
      "source": [
        "Create a raw data dataset"
      ]
    },
    {
      "cell_type": "code",
      "metadata": {
        "colab": {
          "base_uri": "https://localhost:8080/"
        },
        "id": "hdXCfl1XTSIi",
        "outputId": "b971d0fb-ba31-4af5-ad41-7c5e8dd5c10e"
      },
      "source": [
        "raw_data = pd.read_csv(\"hrly_Irish_weather.csv\")"
      ],
      "execution_count": 10,
      "outputs": [
        {
          "output_type": "stream",
          "text": [
            "/usr/local/lib/python3.6/dist-packages/IPython/core/interactiveshell.py:2718: DtypeWarning: Columns (5,6,7,8,9,10,11,12,13,14,15,16,17) have mixed types.Specify dtype option on import or set low_memory=False.\n",
            "  interactivity=interactivity, compiler=compiler, result=result)\n"
          ],
          "name": "stderr"
        }
      ]
    },
    {
      "cell_type": "markdown",
      "metadata": {
        "id": "pKRc-D2dbo58"
      },
      "source": [
        "Confirm the new dataset is intact and accurate"
      ]
    },
    {
      "cell_type": "code",
      "metadata": {
        "colab": {
          "base_uri": "https://localhost:8080/"
        },
        "id": "nydF9hYQaVdS",
        "outputId": "96c87aa2-309b-4a53-d8d7-1c32322919bd"
      },
      "source": [
        "raw_data.head"
      ],
      "execution_count": 11,
      "outputs": [
        {
          "output_type": "execute_result",
          "data": {
            "text/plain": [
              "<bound method NDFrame.head of          county       station  latitude  longitude  ...  sun    vis clht clamt\n",
              "0        Galway       ATHENRY    53.289     -8.786  ...  NaN    NaN  NaN   NaN\n",
              "1        Galway       ATHENRY    53.289     -8.786  ...  NaN    NaN  NaN   NaN\n",
              "2        Galway       ATHENRY    53.289     -8.786  ...  NaN    NaN  NaN   NaN\n",
              "3        Galway       ATHENRY    53.289     -8.786  ...  NaN    NaN  NaN   NaN\n",
              "4        Galway       ATHENRY    53.289     -8.786  ...  NaN    NaN  NaN   NaN\n",
              "...         ...           ...       ...        ...  ...  ...    ...  ...   ...\n",
              "1048570    Cork  CORK AIRPORT    51.847     -8.486  ...    0  30000   35     6\n",
              "1048571    Cork  CORK AIRPORT    51.847     -8.486  ...    0  40000  999     2\n",
              "1048572    Cork  CORK AIRPORT    51.847     -8.486  ...    0  40000  999     1\n",
              "1048573    Cork  CORK AIRPORT    51.847     -8.486  ...    0  40000  999     3\n",
              "1048574    Cork  CORK AIRPORT    51.847     -8.486  ...    0  40000  999     2\n",
              "\n",
              "[1048575 rows x 18 columns]>"
            ]
          },
          "metadata": {
            "tags": []
          },
          "execution_count": 11
        }
      ]
    },
    {
      "cell_type": "markdown",
      "metadata": {
        "id": "5umhQ17Jqi2o"
      },
      "source": [
        "Claremorris, as the least complete of the Mayo stations - and therefore most adapted by replacing Nan values, will be deleted from the linear regression."
      ]
    },
    {
      "cell_type": "code",
      "metadata": {
        "id": "A9jOWg80qPoE"
      },
      "source": [
        "raw_data.drop(raw_data[raw_data.station == 'CLAREMORRIS'].index, inplace=True)"
      ],
      "execution_count": 12,
      "outputs": []
    },
    {
      "cell_type": "markdown",
      "metadata": {
        "id": "oMBq0136bvLc"
      },
      "source": [
        "Ascertain the data types of the data"
      ]
    },
    {
      "cell_type": "code",
      "metadata": {
        "colab": {
          "base_uri": "https://localhost:8080/"
        },
        "id": "SUDUS6ygbWms",
        "outputId": "3bf44bf9-24c1-423d-dd8b-6bd7f81d4d15"
      },
      "source": [
        "dataTypeSeries = raw_data.dtypes\r\n",
        "print('Data type of each column of Dataframe :')\r\n",
        "print(dataTypeSeries)"
      ],
      "execution_count": 13,
      "outputs": [
        {
          "output_type": "stream",
          "text": [
            "Data type of each column of Dataframe :\n",
            "county        object\n",
            "station       object\n",
            "latitude     float64\n",
            "longitude    float64\n",
            "date          object\n",
            "rain          object\n",
            "temp          object\n",
            "wetb          object\n",
            "dewpt         object\n",
            "vappr         object\n",
            "rhum          object\n",
            "msl           object\n",
            "wdsp          object\n",
            "wddir         object\n",
            "sun           object\n",
            "vis           object\n",
            "clht          object\n",
            "clamt         object\n",
            "dtype: object\n"
          ],
          "name": "stdout"
        }
      ]
    },
    {
      "cell_type": "markdown",
      "metadata": {
        "id": "jAq9kg-Q4JWL"
      },
      "source": [
        "Convert to usable formats"
      ]
    },
    {
      "cell_type": "code",
      "metadata": {
        "id": "_yJIx2C0fKf7"
      },
      "source": [
        "# float_data = [\"rain\", \"temp\",\"wetb\", \"dewpt\",\"vappr\", \"rhum\",\"msl\", \"wdsp\",\"wddir\", \"sun\",\"vis\", \"clht\",\"clamt\"] \r\n",
        "\r\n",
        "raw_data['rain'] = pd.to_numeric(raw_data.rain , errors='coerce')\r\n",
        "raw_data['temp'] = pd.to_numeric(raw_data.temp , errors='coerce')\r\n",
        "raw_data['wetb'] = pd.to_numeric(raw_data.wetb , errors='coerce')\r\n",
        "raw_data['dewpt'] = pd.to_numeric(raw_data.dewpt , errors='coerce')\r\n",
        "raw_data['vappr'] = pd.to_numeric(raw_data.vappr , errors='coerce')\r\n",
        "raw_data['rhum'] = pd.to_numeric(raw_data.rhum , errors='coerce')\r\n",
        "raw_data['msl'] = pd.to_numeric(raw_data.msl , errors='coerce')\r\n",
        "raw_data['wdsp'] = pd.to_numeric(raw_data.wdsp , errors='coerce')\r\n",
        "raw_data['wddir'] = pd.to_numeric(raw_data.wddir , errors='coerce')\r\n",
        "raw_data['sun'] = pd.to_numeric(raw_data.sun , errors='coerce')\r\n",
        "raw_data['vis'] = pd.to_numeric(raw_data.vis , errors='coerce')\r\n",
        "raw_data['clht'] = pd.to_numeric(raw_data.clht , errors='coerce')\r\n",
        "raw_data['clamt'] = pd.to_numeric(raw_data.clamt , errors='coerce')\r\n",
        "\r\n",
        "# Attempt to run as a for loop of 'float_data' met formatting issues, so ran individually. Will attempt to resolve later\r\n"
      ],
      "execution_count": 14,
      "outputs": []
    },
    {
      "cell_type": "code",
      "metadata": {
        "id": "KX37nj4g53xH"
      },
      "source": [
        "raw_data['date'] = pd.to_datetime(raw_data['date'])\r\n"
      ],
      "execution_count": 15,
      "outputs": []
    },
    {
      "cell_type": "code",
      "metadata": {
        "id": "CpqP0ojnARfq"
      },
      "source": [
        "raw_data['county'] = pd.Series(raw_data['county'], dtype=\"string\")\r\n",
        "raw_data['station'] = pd.Series(raw_data['station'], dtype=\"string\")"
      ],
      "execution_count": 16,
      "outputs": []
    },
    {
      "cell_type": "markdown",
      "metadata": {
        "id": "3k3znXEtO8H6"
      },
      "source": [
        "Remove superfluous data"
      ]
    },
    {
      "cell_type": "code",
      "metadata": {
        "id": "Bja1rHfgO7w1"
      },
      "source": [
        "del raw_data['latitude']\r\n",
        "del raw_data['longitude']\r\n",
        "del raw_data['wetb']\r\n",
        "del raw_data['sun']\r\n",
        "del raw_data['vis']\r\n",
        "del raw_data['clht']\r\n",
        "del raw_data['clamt']"
      ],
      "execution_count": 17,
      "outputs": []
    },
    {
      "cell_type": "markdown",
      "metadata": {
        "id": "FQGAa62LVsOT"
      },
      "source": [
        "Check for NaN values"
      ]
    },
    {
      "cell_type": "code",
      "metadata": {
        "colab": {
          "base_uri": "https://localhost:8080/"
        },
        "id": "zlt5ShHeVXNU",
        "outputId": "ad441ba2-b8fb-4ab4-b520-f56c643f9f3b"
      },
      "source": [
        "print(raw_data.isnull().values.any())\r\n",
        "print(raw_data.isnull().sum().sum())"
      ],
      "execution_count": 18,
      "outputs": [
        {
          "output_type": "stream",
          "text": [
            "True\n",
            "11200\n"
          ],
          "name": "stdout"
        }
      ]
    },
    {
      "cell_type": "code",
      "metadata": {
        "colab": {
          "base_uri": "https://localhost:8080/"
        },
        "id": "X4oGSN58Vx-u",
        "outputId": "64ec867d-5b50-43da-931d-5ae94fba4c55"
      },
      "source": [
        "count_nan_in_df = raw_data.isnull().sum()\r\n",
        "print (count_nan_in_df)"
      ],
      "execution_count": 19,
      "outputs": [
        {
          "output_type": "stream",
          "text": [
            "county        0\n",
            "station       0\n",
            "date          0\n",
            "rain        328\n",
            "temp       2331\n",
            "dewpt      2437\n",
            "vappr      2437\n",
            "rhum        377\n",
            "msl        2495\n",
            "wdsp        249\n",
            "wddir       546\n",
            "dtype: int64\n"
          ],
          "name": "stdout"
        }
      ]
    },
    {
      "cell_type": "markdown",
      "metadata": {
        "id": "5wJXGOyjYsdO"
      },
      "source": [
        "Ammending Dataframe to get data is desired format\r\n",
        "* seperating from raw_data to allow machine learning at later time"
      ]
    },
    {
      "cell_type": "code",
      "metadata": {
        "colab": {
          "base_uri": "https://localhost:8080/"
        },
        "id": "b7BZ0CFlYyJm",
        "outputId": "f0fdac7e-ae94-4d5f-f46b-93b527271eff"
      },
      "source": [
        "raw_data_linear = raw_data\r\n",
        "column_means = raw_data_linear.mean()\r\n",
        "raw_data_linear = raw_data_linear.fillna(column_means)"
      ],
      "execution_count": 20,
      "outputs": [
        {
          "output_type": "stream",
          "text": [
            "/usr/local/lib/python3.6/dist-packages/ipykernel_launcher.py:2: FutureWarning: DataFrame.mean and DataFrame.median with numeric_only=None will include datetime64 and datetime64tz columns in a future version.\n",
            "  \n"
          ],
          "name": "stderr"
        }
      ]
    },
    {
      "cell_type": "code",
      "metadata": {
        "colab": {
          "base_uri": "https://localhost:8080/"
        },
        "id": "8YakNNRdZqcW",
        "outputId": "c6fe5be2-0d3e-4a31-aa21-360cd75c2397"
      },
      "source": [
        "count_nan_in_df = raw_data_linear.isnull().sum()\r\n",
        "print (count_nan_in_df)"
      ],
      "execution_count": 21,
      "outputs": [
        {
          "output_type": "stream",
          "text": [
            "county     0\n",
            "station    0\n",
            "date       0\n",
            "rain       0\n",
            "temp       0\n",
            "dewpt      0\n",
            "vappr      0\n",
            "rhum       0\n",
            "msl        0\n",
            "wdsp       0\n",
            "wddir      0\n",
            "dtype: int64\n"
          ],
          "name": "stdout"
        }
      ]
    },
    {
      "cell_type": "markdown",
      "metadata": {
        "id": "vgTIVuT-kV5n"
      },
      "source": [
        "Add Columns for Generalised data information\r\n",
        "* This will make the data perfect for non-SQL database"
      ]
    },
    {
      "cell_type": "code",
      "metadata": {
        "id": "AyzwR_LH9mYK"
      },
      "source": [
        "raw_data_linear['Date'] = raw_data_linear['date'].dt.date\r\n",
        "raw_data_linear['Time'] = raw_data_linear['date'].dt.time"
      ],
      "execution_count": 22,
      "outputs": []
    },
    {
      "cell_type": "code",
      "metadata": {
        "id": "3EsLm6ONCvHg"
      },
      "source": [
        "raw_data_linear[\"Wind\"] = raw_data_linear[\"wddir\"]\r\n",
        "raw_data_linear[\"Rain\"] = raw_data_linear[\"rain\"]\r\n",
        "raw_data_linear[\"Temp\"] = raw_data_linear[\"temp\"]\r\n",
        "raw_data_linear[\"Season\"] = raw_data_linear[\"station\"]"
      ],
      "execution_count": 23,
      "outputs": []
    },
    {
      "cell_type": "markdown",
      "metadata": {
        "id": "PG9efSmDYLJ6"
      },
      "source": [
        "Generalised Wind Direction"
      ]
    },
    {
      "cell_type": "code",
      "metadata": {
        "id": "KCH92P08OZvW"
      },
      "source": [
        "def wind_direction(raw_data_linear):\r\n",
        "    if 0<=raw_data_linear['wddir']<=22:\r\n",
        "        return 'N'\r\n",
        "    elif 23<=raw_data_linear['wddir']<=67:\r\n",
        "        return 'NE'\r\n",
        "    elif 68<=raw_data_linear['wddir']<=112:\r\n",
        "        return 'E'\r\n",
        "    elif 113<=raw_data_linear['wddir']<=157:\r\n",
        "        return 'SE'\r\n",
        "    elif 158<=raw_data_linear['wddir']<=202:\r\n",
        "        return 'S'\r\n",
        "    elif 203<=raw_data_linear['wddir']<=247:\r\n",
        "        return 'SW'\r\n",
        "    elif 248<=raw_data_linear['wddir']<=292:\r\n",
        "        return 'W'\r\n",
        "    elif 293<=raw_data_linear['wddir']<=337:\r\n",
        "        return 'NW'\r\n",
        "    else:\r\n",
        "        return 'N'\r\n",
        "\r\n",
        "raw_data_linear['Wind'] = raw_data_linear.apply(wind_direction, axis = 1)"
      ],
      "execution_count": 24,
      "outputs": []
    },
    {
      "cell_type": "markdown",
      "metadata": {
        "id": "kGNV-JBHYQmQ"
      },
      "source": [
        "Generalised Rainfall"
      ]
    },
    {
      "cell_type": "code",
      "metadata": {
        "id": "udsyYb6nYYDe"
      },
      "source": [
        "def rainfall_mm_hr(raw_data_linear):\r\n",
        "    if 0<raw_data_linear['rain']<=2.5:\r\n",
        "        return 'Light'\r\n",
        "    elif 2.5<raw_data_linear['rain']<=7.6:\r\n",
        "        return 'Moderate'\r\n",
        "    elif 7.6<raw_data_linear['rain']<=50:\r\n",
        "        return 'Heavy'\r\n",
        "    elif 50<raw_data_linear['rain']:\r\n",
        "        return 'Violent'\r\n",
        "    else:\r\n",
        "        return 'None'\r\n",
        "\r\n",
        "raw_data_linear['Rain'] = raw_data_linear.apply(rainfall_mm_hr, axis = 1)"
      ],
      "execution_count": 25,
      "outputs": []
    },
    {
      "cell_type": "markdown",
      "metadata": {
        "id": "80sdAhd8cFdU"
      },
      "source": [
        "Generalised Temperature"
      ]
    },
    {
      "cell_type": "code",
      "metadata": {
        "id": "pTVBXUT4cGLJ"
      },
      "source": [
        "def temperature(raw_data_linear):\r\n",
        "    if raw_data_linear['temp']<=0:\r\n",
        "        return 'Freezing'\r\n",
        "    elif 0<raw_data_linear['temp']<=5:\r\n",
        "        return 'Cold'\r\n",
        "    elif 5<raw_data_linear['temp']<=10:\r\n",
        "        return 'Cool'\r\n",
        "    elif 10<raw_data_linear['temp']<=20:\r\n",
        "        return 'Moderate'\r\n",
        "    elif 20<raw_data_linear['temp']<=30:\r\n",
        "        return 'Warm'\r\n",
        "    elif 30<raw_data_linear['temp']:\r\n",
        "        return 'Hot'\r\n",
        "\r\n",
        "raw_data_linear['Temp'] = raw_data_linear.apply(temperature, axis = 1)"
      ],
      "execution_count": 26,
      "outputs": []
    },
    {
      "cell_type": "markdown",
      "metadata": {
        "id": "bhw8yQ2cmtUr"
      },
      "source": [
        "Seasons"
      ]
    },
    {
      "cell_type": "code",
      "metadata": {
        "id": "3PfqUO3Ipg62"
      },
      "source": [
        "raw_data_linear['day'] = pd.DatetimeIndex(raw_data_linear['Date']).day\r\n",
        "raw_data_linear['month'] = pd.DatetimeIndex(raw_data_linear['Date']).month\r\n",
        "raw_data_linear['year'] = pd.DatetimeIndex(raw_data_linear['Date']).year"
      ],
      "execution_count": 27,
      "outputs": []
    },
    {
      "cell_type": "code",
      "metadata": {
        "id": "Di8_pe2Fmt66"
      },
      "source": [
        "def season(raw_data_linear):\r\n",
        "    if 3<=raw_data_linear['month']<6:\r\n",
        "        return 'Spring'\r\n",
        "    elif 6<=raw_data_linear['month']<9:\r\n",
        "        return 'Summer'\r\n",
        "    elif 9<=raw_data_linear['month']<11:\r\n",
        "        return 'Autumn'\r\n",
        "    else:\r\n",
        "        return 'Winter'\r\n",
        "\r\n",
        "raw_data_linear['Season'] = raw_data_linear.apply(season, axis = 1)"
      ],
      "execution_count": 28,
      "outputs": []
    },
    {
      "cell_type": "markdown",
      "metadata": {
        "id": "cm8LJS7mqMzE"
      },
      "source": [
        "Rain Present?\r\n",
        "* Column to be used for ML purposes"
      ]
    },
    {
      "cell_type": "code",
      "metadata": {
        "id": "nNhU3Q5mqL17"
      },
      "source": [
        "raw_data_linear[\"Rain_Y_N\"] = raw_data_linear[\"rain\"]\r\n",
        "\r\n",
        "def rainfall(raw_data_linear):\r\n",
        "    if raw_data_linear['rain']==0:\r\n",
        "        return 'N'\r\n",
        "    else:\r\n",
        "        return 'Y'\r\n",
        "\r\n",
        "raw_data_linear['Rain_Y_N'] = raw_data_linear.apply(rainfall, axis = 1)"
      ],
      "execution_count": 29,
      "outputs": []
    },
    {
      "cell_type": "markdown",
      "metadata": {
        "id": "JnV2kKb2Ku4B"
      },
      "source": [
        "Rename columns for clarity"
      ]
    },
    {
      "cell_type": "code",
      "metadata": {
        "id": "jXSOONmppuQl"
      },
      "source": [
        "raw_data_linear.columns = ['County', 'Station','Datestamp','Rainfall','TempC','DewpointC','Vapour','Humidity','Air_Press','Wind_Speed','Direction','Date','Time','Wind','Rain','Temp','Season','Day','Month','Year','Rain_Y_N']"
      ],
      "execution_count": 30,
      "outputs": []
    },
    {
      "cell_type": "markdown",
      "metadata": {
        "id": "V6oK915OK0vE"
      },
      "source": [
        "Change new column types"
      ]
    },
    {
      "cell_type": "code",
      "metadata": {
        "id": "EbtOyLhgoSbD"
      },
      "source": [
        "raw_data_linear['Date'] = pd.to_datetime(raw_data_linear['Date'])\r\n",
        "raw_data_linear['Wind'] = pd.Series(raw_data_linear['Wind'], dtype=\"string\")\r\n",
        "raw_data_linear['Rain'] = pd.Series(raw_data_linear['Rain'], dtype=\"string\")\r\n",
        "raw_data_linear['Temp'] = pd.Series(raw_data_linear['Temp'], dtype=\"string\")\r\n",
        "raw_data_linear['Season'] = pd.Series(raw_data_linear['Season'], dtype=\"string\")"
      ],
      "execution_count": 31,
      "outputs": []
    },
    {
      "cell_type": "code",
      "metadata": {
        "colab": {
          "base_uri": "https://localhost:8080/",
          "height": 419
        },
        "id": "YNtvNYJWdEN7",
        "outputId": "ccb58454-78c8-436f-e614-fca1d2a73022"
      },
      "source": [
        "raw_data_linear"
      ],
      "execution_count": 32,
      "outputs": [
        {
          "output_type": "execute_result",
          "data": {
            "text/html": [
              "<div>\n",
              "<style scoped>\n",
              "    .dataframe tbody tr th:only-of-type {\n",
              "        vertical-align: middle;\n",
              "    }\n",
              "\n",
              "    .dataframe tbody tr th {\n",
              "        vertical-align: top;\n",
              "    }\n",
              "\n",
              "    .dataframe thead th {\n",
              "        text-align: right;\n",
              "    }\n",
              "</style>\n",
              "<table border=\"1\" class=\"dataframe\">\n",
              "  <thead>\n",
              "    <tr style=\"text-align: right;\">\n",
              "      <th></th>\n",
              "      <th>County</th>\n",
              "      <th>Station</th>\n",
              "      <th>Datestamp</th>\n",
              "      <th>Rainfall</th>\n",
              "      <th>TempC</th>\n",
              "      <th>DewpointC</th>\n",
              "      <th>Vapour</th>\n",
              "      <th>Humidity</th>\n",
              "      <th>Air_Press</th>\n",
              "      <th>Wind_Speed</th>\n",
              "      <th>Direction</th>\n",
              "      <th>Date</th>\n",
              "      <th>Time</th>\n",
              "      <th>Wind</th>\n",
              "      <th>Rain</th>\n",
              "      <th>Temp</th>\n",
              "      <th>Season</th>\n",
              "      <th>Day</th>\n",
              "      <th>Month</th>\n",
              "      <th>Year</th>\n",
              "      <th>Rain_Y_N</th>\n",
              "    </tr>\n",
              "  </thead>\n",
              "  <tbody>\n",
              "    <tr>\n",
              "      <th>0</th>\n",
              "      <td>Galway</td>\n",
              "      <td>ATHENRY</td>\n",
              "      <td>2011-06-26 01:00:00</td>\n",
              "      <td>0.0</td>\n",
              "      <td>15.3</td>\n",
              "      <td>13.9</td>\n",
              "      <td>15.8</td>\n",
              "      <td>90.0</td>\n",
              "      <td>1016.0</td>\n",
              "      <td>8.0</td>\n",
              "      <td>190.0</td>\n",
              "      <td>2011-06-26</td>\n",
              "      <td>01:00:00</td>\n",
              "      <td>S</td>\n",
              "      <td>None</td>\n",
              "      <td>Moderate</td>\n",
              "      <td>Summer</td>\n",
              "      <td>26</td>\n",
              "      <td>6</td>\n",
              "      <td>2011</td>\n",
              "      <td>N</td>\n",
              "    </tr>\n",
              "    <tr>\n",
              "      <th>1</th>\n",
              "      <td>Galway</td>\n",
              "      <td>ATHENRY</td>\n",
              "      <td>2011-06-26 02:00:00</td>\n",
              "      <td>0.0</td>\n",
              "      <td>14.7</td>\n",
              "      <td>12.9</td>\n",
              "      <td>14.9</td>\n",
              "      <td>89.0</td>\n",
              "      <td>1015.8</td>\n",
              "      <td>7.0</td>\n",
              "      <td>190.0</td>\n",
              "      <td>2011-06-26</td>\n",
              "      <td>02:00:00</td>\n",
              "      <td>S</td>\n",
              "      <td>None</td>\n",
              "      <td>Moderate</td>\n",
              "      <td>Summer</td>\n",
              "      <td>26</td>\n",
              "      <td>6</td>\n",
              "      <td>2011</td>\n",
              "      <td>N</td>\n",
              "    </tr>\n",
              "    <tr>\n",
              "      <th>2</th>\n",
              "      <td>Galway</td>\n",
              "      <td>ATHENRY</td>\n",
              "      <td>2011-06-26 03:00:00</td>\n",
              "      <td>0.0</td>\n",
              "      <td>14.3</td>\n",
              "      <td>12.6</td>\n",
              "      <td>14.6</td>\n",
              "      <td>89.0</td>\n",
              "      <td>1015.5</td>\n",
              "      <td>6.0</td>\n",
              "      <td>190.0</td>\n",
              "      <td>2011-06-26</td>\n",
              "      <td>03:00:00</td>\n",
              "      <td>S</td>\n",
              "      <td>None</td>\n",
              "      <td>Moderate</td>\n",
              "      <td>Summer</td>\n",
              "      <td>26</td>\n",
              "      <td>6</td>\n",
              "      <td>2011</td>\n",
              "      <td>N</td>\n",
              "    </tr>\n",
              "    <tr>\n",
              "      <th>3</th>\n",
              "      <td>Galway</td>\n",
              "      <td>ATHENRY</td>\n",
              "      <td>2011-06-26 04:00:00</td>\n",
              "      <td>0.0</td>\n",
              "      <td>14.4</td>\n",
              "      <td>12.8</td>\n",
              "      <td>14.8</td>\n",
              "      <td>90.0</td>\n",
              "      <td>1015.3</td>\n",
              "      <td>7.0</td>\n",
              "      <td>180.0</td>\n",
              "      <td>2011-06-26</td>\n",
              "      <td>04:00:00</td>\n",
              "      <td>S</td>\n",
              "      <td>None</td>\n",
              "      <td>Moderate</td>\n",
              "      <td>Summer</td>\n",
              "      <td>26</td>\n",
              "      <td>6</td>\n",
              "      <td>2011</td>\n",
              "      <td>N</td>\n",
              "    </tr>\n",
              "    <tr>\n",
              "      <th>4</th>\n",
              "      <td>Galway</td>\n",
              "      <td>ATHENRY</td>\n",
              "      <td>2011-06-26 05:00:00</td>\n",
              "      <td>0.0</td>\n",
              "      <td>14.4</td>\n",
              "      <td>12.7</td>\n",
              "      <td>14.7</td>\n",
              "      <td>89.0</td>\n",
              "      <td>1015.1</td>\n",
              "      <td>6.0</td>\n",
              "      <td>190.0</td>\n",
              "      <td>2011-06-26</td>\n",
              "      <td>05:00:00</td>\n",
              "      <td>S</td>\n",
              "      <td>None</td>\n",
              "      <td>Moderate</td>\n",
              "      <td>Summer</td>\n",
              "      <td>26</td>\n",
              "      <td>6</td>\n",
              "      <td>2011</td>\n",
              "      <td>N</td>\n",
              "    </tr>\n",
              "    <tr>\n",
              "      <th>...</th>\n",
              "      <td>...</td>\n",
              "      <td>...</td>\n",
              "      <td>...</td>\n",
              "      <td>...</td>\n",
              "      <td>...</td>\n",
              "      <td>...</td>\n",
              "      <td>...</td>\n",
              "      <td>...</td>\n",
              "      <td>...</td>\n",
              "      <td>...</td>\n",
              "      <td>...</td>\n",
              "      <td>...</td>\n",
              "      <td>...</td>\n",
              "      <td>...</td>\n",
              "      <td>...</td>\n",
              "      <td>...</td>\n",
              "      <td>...</td>\n",
              "      <td>...</td>\n",
              "      <td>...</td>\n",
              "      <td>...</td>\n",
              "      <td>...</td>\n",
              "    </tr>\n",
              "    <tr>\n",
              "      <th>1048570</th>\n",
              "      <td>Cork</td>\n",
              "      <td>CORK AIRPORT</td>\n",
              "      <td>1994-11-03 20:00:00</td>\n",
              "      <td>0.0</td>\n",
              "      <td>3.5</td>\n",
              "      <td>2.0</td>\n",
              "      <td>7.0</td>\n",
              "      <td>90.0</td>\n",
              "      <td>1018.9</td>\n",
              "      <td>6.0</td>\n",
              "      <td>270.0</td>\n",
              "      <td>1994-11-03</td>\n",
              "      <td>20:00:00</td>\n",
              "      <td>W</td>\n",
              "      <td>None</td>\n",
              "      <td>Cold</td>\n",
              "      <td>Winter</td>\n",
              "      <td>3</td>\n",
              "      <td>11</td>\n",
              "      <td>1994</td>\n",
              "      <td>N</td>\n",
              "    </tr>\n",
              "    <tr>\n",
              "      <th>1048571</th>\n",
              "      <td>Cork</td>\n",
              "      <td>CORK AIRPORT</td>\n",
              "      <td>1994-11-03 21:00:00</td>\n",
              "      <td>0.0</td>\n",
              "      <td>2.3</td>\n",
              "      <td>0.7</td>\n",
              "      <td>6.4</td>\n",
              "      <td>89.0</td>\n",
              "      <td>1018.7</td>\n",
              "      <td>5.0</td>\n",
              "      <td>270.0</td>\n",
              "      <td>1994-11-03</td>\n",
              "      <td>21:00:00</td>\n",
              "      <td>W</td>\n",
              "      <td>None</td>\n",
              "      <td>Cold</td>\n",
              "      <td>Winter</td>\n",
              "      <td>3</td>\n",
              "      <td>11</td>\n",
              "      <td>1994</td>\n",
              "      <td>N</td>\n",
              "    </tr>\n",
              "    <tr>\n",
              "      <th>1048572</th>\n",
              "      <td>Cork</td>\n",
              "      <td>CORK AIRPORT</td>\n",
              "      <td>1994-11-03 22:00:00</td>\n",
              "      <td>0.0</td>\n",
              "      <td>1.7</td>\n",
              "      <td>0.7</td>\n",
              "      <td>6.4</td>\n",
              "      <td>93.0</td>\n",
              "      <td>1018.9</td>\n",
              "      <td>3.0</td>\n",
              "      <td>260.0</td>\n",
              "      <td>1994-11-03</td>\n",
              "      <td>22:00:00</td>\n",
              "      <td>W</td>\n",
              "      <td>None</td>\n",
              "      <td>Cold</td>\n",
              "      <td>Winter</td>\n",
              "      <td>3</td>\n",
              "      <td>11</td>\n",
              "      <td>1994</td>\n",
              "      <td>N</td>\n",
              "    </tr>\n",
              "    <tr>\n",
              "      <th>1048573</th>\n",
              "      <td>Cork</td>\n",
              "      <td>CORK AIRPORT</td>\n",
              "      <td>1994-11-03 23:00:00</td>\n",
              "      <td>0.0</td>\n",
              "      <td>1.5</td>\n",
              "      <td>0.2</td>\n",
              "      <td>6.2</td>\n",
              "      <td>91.0</td>\n",
              "      <td>1019.1</td>\n",
              "      <td>6.0</td>\n",
              "      <td>230.0</td>\n",
              "      <td>1994-11-03</td>\n",
              "      <td>23:00:00</td>\n",
              "      <td>SW</td>\n",
              "      <td>None</td>\n",
              "      <td>Cold</td>\n",
              "      <td>Winter</td>\n",
              "      <td>3</td>\n",
              "      <td>11</td>\n",
              "      <td>1994</td>\n",
              "      <td>N</td>\n",
              "    </tr>\n",
              "    <tr>\n",
              "      <th>1048574</th>\n",
              "      <td>Cork</td>\n",
              "      <td>CORK AIRPORT</td>\n",
              "      <td>1994-12-03 00:00:00</td>\n",
              "      <td>0.0</td>\n",
              "      <td>1.5</td>\n",
              "      <td>-0.4</td>\n",
              "      <td>5.9</td>\n",
              "      <td>87.0</td>\n",
              "      <td>1019.3</td>\n",
              "      <td>10.0</td>\n",
              "      <td>260.0</td>\n",
              "      <td>1994-12-03</td>\n",
              "      <td>00:00:00</td>\n",
              "      <td>W</td>\n",
              "      <td>None</td>\n",
              "      <td>Cold</td>\n",
              "      <td>Winter</td>\n",
              "      <td>3</td>\n",
              "      <td>12</td>\n",
              "      <td>1994</td>\n",
              "      <td>N</td>\n",
              "    </tr>\n",
              "  </tbody>\n",
              "</table>\n",
              "<p>781995 rows × 21 columns</p>\n",
              "</div>"
            ],
            "text/plain": [
              "         County       Station           Datestamp  ...  Month  Year  Rain_Y_N\n",
              "0        Galway       ATHENRY 2011-06-26 01:00:00  ...      6  2011         N\n",
              "1        Galway       ATHENRY 2011-06-26 02:00:00  ...      6  2011         N\n",
              "2        Galway       ATHENRY 2011-06-26 03:00:00  ...      6  2011         N\n",
              "3        Galway       ATHENRY 2011-06-26 04:00:00  ...      6  2011         N\n",
              "4        Galway       ATHENRY 2011-06-26 05:00:00  ...      6  2011         N\n",
              "...         ...           ...                 ...  ...    ...   ...       ...\n",
              "1048570    Cork  CORK AIRPORT 1994-11-03 20:00:00  ...     11  1994         N\n",
              "1048571    Cork  CORK AIRPORT 1994-11-03 21:00:00  ...     11  1994         N\n",
              "1048572    Cork  CORK AIRPORT 1994-11-03 22:00:00  ...     11  1994         N\n",
              "1048573    Cork  CORK AIRPORT 1994-11-03 23:00:00  ...     11  1994         N\n",
              "1048574    Cork  CORK AIRPORT 1994-12-03 00:00:00  ...     12  1994         N\n",
              "\n",
              "[781995 rows x 21 columns]"
            ]
          },
          "metadata": {
            "tags": []
          },
          "execution_count": 32
        }
      ]
    },
    {
      "cell_type": "markdown",
      "metadata": {
        "id": "1c_FN1jDgg11"
      },
      "source": [
        "## Create long-term, site specific datasets"
      ]
    },
    {
      "cell_type": "markdown",
      "metadata": {
        "id": "G3ryJ6ZVomYT"
      },
      "source": [
        "Datasets are not complete for all stations, with only the Mayo and Dublin stations having the complete 30 year timeframe of data. Given this the other stations will be left out of the linear regression, and used only for the later Neural Networking stages, and the Casement and Bellmullet station results will be used as an East/West coast comparision."
      ]
    },
    {
      "cell_type": "markdown",
      "metadata": {
        "id": "ixOL9Sbjgoa8"
      },
      "source": [
        "* Casement Station, Dublin\r\n",
        "\r\n"
      ]
    },
    {
      "cell_type": "code",
      "metadata": {
        "colab": {
          "base_uri": "https://localhost:8080/"
        },
        "id": "CTB4XKMWchPe",
        "outputId": "7ff822c5-ead7-426c-d965-555895dc2dde"
      },
      "source": [
        "raw_Dub = raw_data_linear[raw_data_linear.Station == 'CASEMENT']\r\n",
        "raw_Dub = raw_Dub[raw_Dub.Datestamp < '2020-01-1']\r\n",
        "raw_Dub.reset_index(inplace = True)\r\n",
        "print(raw_Dub)\r\n",
        "print(raw_Dub.Datestamp.min())\r\n",
        "print(raw_Dub.Datestamp.max())"
      ],
      "execution_count": 33,
      "outputs": [
        {
          "output_type": "stream",
          "text": [
            "         index  County   Station           Datestamp  ...  Day  Month  Year  Rain_Y_N\n",
            "0       478633  Dublin  CASEMENT 1990-01-01 00:00:00  ...    1      1  1990         N\n",
            "1       478634  Dublin  CASEMENT 1990-01-01 01:00:00  ...    1      1  1990         N\n",
            "2       478635  Dublin  CASEMENT 1990-01-01 02:00:00  ...    1      1  1990         N\n",
            "3       478636  Dublin  CASEMENT 1990-01-01 03:00:00  ...    1      1  1990         Y\n",
            "4       478637  Dublin  CASEMENT 1990-01-01 04:00:00  ...    1      1  1990         Y\n",
            "...        ...     ...       ...                 ...  ...  ...    ...   ...       ...\n",
            "262963  741596  Dublin  CASEMENT 2019-12-31 19:00:00  ...   31     12  2019         N\n",
            "262964  741597  Dublin  CASEMENT 2019-12-31 20:00:00  ...   31     12  2019         N\n",
            "262965  741598  Dublin  CASEMENT 2019-12-31 21:00:00  ...   31     12  2019         N\n",
            "262966  741599  Dublin  CASEMENT 2019-12-31 22:00:00  ...   31     12  2019         N\n",
            "262967  741600  Dublin  CASEMENT 2019-12-31 23:00:00  ...   31     12  2019         N\n",
            "\n",
            "[262968 rows x 22 columns]\n",
            "1990-01-01 00:00:00\n",
            "2019-12-31 23:00:00\n"
          ],
          "name": "stdout"
        }
      ]
    },
    {
      "cell_type": "markdown",
      "metadata": {
        "id": "UwIdF4zagsa2"
      },
      "source": [
        "* Bellmullet Station, Mayo"
      ]
    },
    {
      "cell_type": "code",
      "metadata": {
        "colab": {
          "base_uri": "https://localhost:8080/"
        },
        "id": "_WOdsBO1dqzv",
        "outputId": "a8db4f20-002f-43d0-e51b-dc100ede074c"
      },
      "source": [
        "raw_Mayo = raw_data_linear[raw_data_linear.Station == 'BELMULLET']\r\n",
        "raw_Mayo = raw_Mayo[raw_Mayo.Datestamp < '2020-01-01']\r\n",
        "raw_Mayo.reset_index(inplace = True)\r\n",
        "print(raw_Mayo)\r\n",
        "print(raw_Mayo.Datestamp.min())\r\n",
        "print(raw_Mayo.Datestamp.max())"
      ],
      "execution_count": 34,
      "outputs": [
        {
          "output_type": "stream",
          "text": [
            "         index County    Station           Datestamp  ...  Day  Month  Year  Rain_Y_N\n",
            "0       212016   Mayo  BELMULLET 1990-01-01 00:00:00  ...    1      1  1990         N\n",
            "1       212017   Mayo  BELMULLET 1990-01-01 01:00:00  ...    1      1  1990         N\n",
            "2       212018   Mayo  BELMULLET 1990-01-01 02:00:00  ...    1      1  1990         N\n",
            "3       212019   Mayo  BELMULLET 1990-01-01 03:00:00  ...    1      1  1990         N\n",
            "4       212020   Mayo  BELMULLET 1990-01-01 04:00:00  ...    1      1  1990         Y\n",
            "...        ...    ...        ...                 ...  ...  ...    ...   ...       ...\n",
            "262963  474979   Mayo  BELMULLET 2019-12-31 19:00:00  ...   31     12  2019         N\n",
            "262964  474980   Mayo  BELMULLET 2019-12-31 20:00:00  ...   31     12  2019         N\n",
            "262965  474981   Mayo  BELMULLET 2019-12-31 21:00:00  ...   31     12  2019         N\n",
            "262966  474982   Mayo  BELMULLET 2019-12-31 22:00:00  ...   31     12  2019         N\n",
            "262967  474983   Mayo  BELMULLET 2019-12-31 23:00:00  ...   31     12  2019         N\n",
            "\n",
            "[262968 rows x 22 columns]\n",
            "1990-01-01 00:00:00\n",
            "2019-12-31 23:00:00\n"
          ],
          "name": "stdout"
        }
      ]
    },
    {
      "cell_type": "markdown",
      "metadata": {
        "id": "qRRLRP7TpJpp"
      },
      "source": [
        "* Ballyhaise Station, Cavan"
      ]
    },
    {
      "cell_type": "code",
      "metadata": {
        "colab": {
          "base_uri": "https://localhost:8080/"
        },
        "id": "EIJKMzp9o5V4",
        "outputId": "15f46263-775e-485f-8134-df64edc4c2be"
      },
      "source": [
        "raw_Cavan = raw_data_linear[raw_data_linear.Station == 'BALLYHAISE']\r\n",
        "raw_Cavan.reset_index(inplace = True)\r\n",
        "print(raw_Cavan)\r\n",
        "print(raw_Cavan.Datestamp.min())\r\n",
        "print(raw_Cavan.Datestamp.max())"
      ],
      "execution_count": 35,
      "outputs": [
        {
          "output_type": "stream",
          "text": [
            "         index County     Station  ... Month  Year  Rain_Y_N\n",
            "0        78312  Cavan  BALLYHAISE  ...     1  2004         Y\n",
            "1        78313  Cavan  BALLYHAISE  ...     1  2004         Y\n",
            "2        78314  Cavan  BALLYHAISE  ...     1  2004         Y\n",
            "3        78315  Cavan  BALLYHAISE  ...     1  2004         Y\n",
            "4        78316  Cavan  BALLYHAISE  ...     1  2004         Y\n",
            "...        ...    ...         ...  ...   ...   ...       ...\n",
            "133699  212011  Cavan  BALLYHAISE  ...     5  2020         N\n",
            "133700  212012  Cavan  BALLYHAISE  ...     5  2020         N\n",
            "133701  212013  Cavan  BALLYHAISE  ...     5  2020         N\n",
            "133702  212014  Cavan  BALLYHAISE  ...     5  2020         N\n",
            "133703  212015  Cavan  BALLYHAISE  ...     1  2020         N\n",
            "\n",
            "[133704 rows x 22 columns]\n",
            "2004-01-01 01:00:00\n",
            "2020-12-05 23:00:00\n"
          ],
          "name": "stdout"
        }
      ]
    },
    {
      "cell_type": "markdown",
      "metadata": {
        "id": "Fp9n8n9upPlQ"
      },
      "source": [
        "* Cork Airport, Cork"
      ]
    },
    {
      "cell_type": "code",
      "metadata": {
        "colab": {
          "base_uri": "https://localhost:8080/"
        },
        "id": "MGUBJYs5xN14",
        "outputId": "61a75f4d-1a69-43fd-eb56-4abdf8e48ac9"
      },
      "source": [
        "raw_Cork = raw_data_linear[raw_data_linear.Station == 'CORK AIRPORT']\r\n",
        "raw_Cork.reset_index(inplace = True)\r\n",
        "print(raw_Cork)\r\n",
        "print(raw_Cork.Datestamp.min())\r\n",
        "print(raw_Cork.Datestamp.max())"
      ],
      "execution_count": 36,
      "outputs": [
        {
          "output_type": "stream",
          "text": [
            "         index County       Station  ... Month  Year  Rain_Y_N\n",
            "0      1011830   Cork  CORK AIRPORT  ...     1  1990         Y\n",
            "1      1011831   Cork  CORK AIRPORT  ...     1  1990         N\n",
            "2      1011832   Cork  CORK AIRPORT  ...     1  1990         N\n",
            "3      1011833   Cork  CORK AIRPORT  ...     1  1990         N\n",
            "4      1011834   Cork  CORK AIRPORT  ...     1  1990         N\n",
            "...        ...    ...           ...  ...   ...   ...       ...\n",
            "36740  1048570   Cork  CORK AIRPORT  ...    11  1994         N\n",
            "36741  1048571   Cork  CORK AIRPORT  ...    11  1994         N\n",
            "36742  1048572   Cork  CORK AIRPORT  ...    11  1994         N\n",
            "36743  1048573   Cork  CORK AIRPORT  ...    11  1994         N\n",
            "36744  1048574   Cork  CORK AIRPORT  ...    12  1994         N\n",
            "\n",
            "[36745 rows x 22 columns]\n",
            "1990-01-01 00:00:00\n",
            "1994-12-03 00:00:00\n"
          ],
          "name": "stdout"
        }
      ]
    },
    {
      "cell_type": "markdown",
      "metadata": {
        "id": "jzSCY6aipc1o"
      },
      "source": [
        "* Athenry Station, Galway"
      ]
    },
    {
      "cell_type": "code",
      "metadata": {
        "colab": {
          "base_uri": "https://localhost:8080/"
        },
        "id": "uy7YqCPMxqET",
        "outputId": "36c3e503-6b79-4ff1-ba9a-aafda184b861"
      },
      "source": [
        "raw_Galway = raw_data_linear[raw_data_linear.Station == 'ATHENRY']\r\n",
        "raw_Galway.reset_index(inplace = True)\r\n",
        "print(raw_Galway)\r\n",
        "print(raw_Galway.Datestamp.min())\r\n",
        "print(raw_Galway.Datestamp.max())"
      ],
      "execution_count": 37,
      "outputs": [
        {
          "output_type": "stream",
          "text": [
            "       index  County  Station           Datestamp  ...  Day  Month  Year  Rain_Y_N\n",
            "0          0  Galway  ATHENRY 2011-06-26 01:00:00  ...   26      6  2011         N\n",
            "1          1  Galway  ATHENRY 2011-06-26 02:00:00  ...   26      6  2011         N\n",
            "2          2  Galway  ATHENRY 2011-06-26 03:00:00  ...   26      6  2011         N\n",
            "3          3  Galway  ATHENRY 2011-06-26 04:00:00  ...   26      6  2011         N\n",
            "4          4  Galway  ATHENRY 2011-06-26 05:00:00  ...   26      6  2011         N\n",
            "...      ...     ...      ...                 ...  ...  ...    ...   ...       ...\n",
            "78307  78307  Galway  ATHENRY 2020-05-31 20:00:00  ...   31      5  2020         N\n",
            "78308  78308  Galway  ATHENRY 2020-05-31 21:00:00  ...   31      5  2020         N\n",
            "78309  78309  Galway  ATHENRY 2020-05-31 22:00:00  ...   31      5  2020         N\n",
            "78310  78310  Galway  ATHENRY 2020-05-31 23:00:00  ...   31      5  2020         N\n",
            "78311  78311  Galway  ATHENRY 2020-01-06 00:00:00  ...    6      1  2020         N\n",
            "\n",
            "[78312 rows x 22 columns]\n",
            "2011-01-07 00:00:00\n",
            "2020-12-05 23:00:00\n"
          ],
          "name": "stdout"
        }
      ]
    },
    {
      "cell_type": "markdown",
      "metadata": {
        "id": "4snJmhKQqqjT"
      },
      "source": [
        "## Visual Representations and Linear Regression"
      ]
    },
    {
      "cell_type": "markdown",
      "metadata": {
        "id": "tV8-GBcrEgFI"
      },
      "source": [
        "* Dublin"
      ]
    },
    {
      "cell_type": "code",
      "metadata": {
        "colab": {
          "base_uri": "https://localhost:8080/",
          "height": 1000
        },
        "id": "Qp9mUhM1qLFh",
        "outputId": "58b01ca9-8077-4e0e-9815-f0820a822224"
      },
      "source": [
        "groupedByYearMonth_Dub = raw_Dub.groupby([\"Year\", \"Month\"])\r\n",
        "\r\n",
        "monthly_averages_Dub = groupedByYearMonth_Dub.aggregate({\"Year\":np.min,\"Date\":np.min,\"County\":np.min,\"Station\":np.min,\"Rainfall\":np.mean,\"TempC\":np.mean,\"Vapour\":np.mean,\"Humidity\":np.mean, \"Air_Press\":np.mean, \"Wind_Speed\":np.mean})\r\n",
        "\r\n",
        "print('Mean values over 30 years in Dublin:')\r\n",
        "print(monthly_averages_Dub.mean(axis = 0, skipna = True))\r\n",
        "print('\\nStd Deviation over 30 years in Dublin:')\r\n",
        "print(monthly_averages_Dub.std(axis = 0, skipna = True))\r\n",
        "\r\n",
        "#print(monthly_averages_Dub)\r\n",
        "#m = monthly_averages_Dub\r\n",
        "#print(m.dtypes)\r\n",
        "x = monthly_averages_Dub.Date\r\n",
        "y = monthly_averages_Dub.Rainfall\r\n",
        "#meanY = monthly_averages_Dub.Rainfall.mean()\r\n",
        "\r\n",
        "y1 = monthly_averages_Dub.TempC\r\n",
        "\r\n",
        "y2 = monthly_averages_Dub.Vapour\r\n",
        "\r\n",
        "y3 = monthly_averages_Dub.Humidity\r\n",
        "\r\n",
        "y4 = monthly_averages_Dub.Air_Press\r\n",
        "\r\n",
        "y5 = monthly_averages_Dub.Wind_Speed\r\n",
        "\r\n",
        "plt.rcParams[\"figure.figsize\"] = (60,25)\r\n",
        "\r\n",
        "plt.subplot(3, 2, 1)\r\n",
        "plt.plot(x, y, 'o');\r\n",
        "#plt.plot(x, monthly_averages_Dub.Rainfall.mean(), 'x');\r\n",
        "plt.title(\"Dublin - Rainfall\"); \r\n",
        "\r\n",
        "#plt.plot(np.unique(x), np.poly1d(np.polyfit(x, y, 1))(np.unique(x)))\r\n",
        "\r\n",
        "plt.subplot(3, 2, 2)\r\n",
        "plt.plot(x, y1, 'o');\r\n",
        "plt.title(\"Dublin - TempC\"); \r\n",
        "\r\n",
        "plt.subplot(3, 2, 3)\r\n",
        "plt.plot(x, y2, 'o');\r\n",
        "plt.title(\"Dublin - Vapour\"); \r\n",
        "\r\n",
        "plt.subplot(3, 2, 4)\r\n",
        "plt.plot(x, y3, 'o');\r\n",
        "plt.title(\"Dublin - Humidity\"); \r\n",
        "\r\n",
        "plt.subplot(3, 2, 5)\r\n",
        "plt.plot(x, y4, 'o');\r\n",
        "plt.title(\"Dublin - Air_Press\"); \r\n",
        "\r\n",
        "plt.subplot(3, 2, 6)\r\n",
        "plt.plot(x, y5, 'o');\r\n",
        "plt.title(\"Dublin - Wind_Speed\"); \r\n"
      ],
      "execution_count": 38,
      "outputs": [
        {
          "output_type": "stream",
          "text": [
            "Mean values over 30 years in Dublin:\n",
            "Year          2004.500000\n",
            "Rainfall         0.088110\n",
            "TempC            9.828318\n",
            "Vapour          10.409593\n",
            "Humidity        83.291327\n",
            "Air_Press     1013.521185\n",
            "Wind_Speed      10.197754\n",
            "dtype: float64\n",
            "\n",
            "Std Deviation over 30 years in Dublin:\n",
            "Year          8.667488\n",
            "Rainfall      0.041838\n",
            "TempC         2.417700\n",
            "Vapour        1.499538\n",
            "Humidity      2.880940\n",
            "Air_Press     4.403747\n",
            "Wind_Speed    1.951922\n",
            "dtype: float64\n"
          ],
          "name": "stdout"
        },
        {
          "output_type": "stream",
          "text": [
            "/usr/local/lib/python3.6/dist-packages/ipykernel_launcher.py:6: FutureWarning: DataFrame.mean and DataFrame.median with numeric_only=None will include datetime64 and datetime64tz columns in a future version.\n",
            "  \n"
          ],
          "name": "stderr"
        },
        {
          "output_type": "display_data",
          "data": {
            "image/png": "[encoded data removed]",
            "text/plain": [
              "<Figure size 4320x1800 with 6 Axes>"
            ]
          },
          "metadata": {
            "tags": [],
            "needs_background": "light"
          }
        }
      ]
    },
    {
      "cell_type": "code",
      "metadata": {
        "colab": {
          "base_uri": "https://localhost:8080/",
          "height": 1000
        },
        "id": "ZelEYOUL5P63",
        "outputId": "ae8cea65-2be7-4c4a-bb8a-0b11259927f5"
      },
      "source": [
        "groupedByYearMonth_Mayo = raw_Mayo.groupby([\"Year\", \"Month\"])\r\n",
        "\r\n",
        "monthly_averages_Mayo = groupedByYearMonth_Mayo.aggregate({\"Year\":np.min,\"Date\":np.min,\"County\":np.min,\"Station\":np.min,\"Rainfall\":np.mean,\"TempC\":np.mean,\"Vapour\":np.mean,\"Humidity\":np.mean, \"Air_Press\":np.mean, \"Wind_Speed\":np.mean})\r\n",
        "\r\n",
        "print('Mean values over 30 years in Mayo:')\r\n",
        "print(monthly_averages_Mayo.mean(axis = 0, skipna = True))\r\n",
        "print('\\nStd Deviation over 30 years in Mayo:')\r\n",
        "print(monthly_averages_Mayo.std(axis = 0, skipna = True))\r\n",
        "\r\n",
        "#print(monthly_averages_Mayo)\r\n",
        "#m = monthly_averages_Mayo\r\n",
        "#print(m.dtypes)\r\n",
        "x = monthly_averages_Mayo.Date\r\n",
        "y = monthly_averages_Mayo.Rainfall\r\n",
        "\r\n",
        "y1 = monthly_averages_Mayo.TempC\r\n",
        "\r\n",
        "y2 = monthly_averages_Mayo.Vapour\r\n",
        "\r\n",
        "y3 = monthly_averages_Mayo.Humidity\r\n",
        "\r\n",
        "y4 = monthly_averages_Mayo.Air_Press\r\n",
        "\r\n",
        "y5 = monthly_averages_Mayo.Wind_Speed\r\n",
        "\r\n",
        "plt.rcParams[\"figure.figsize\"] = (60,25)\r\n",
        "\r\n",
        "plt.subplot(3, 2, 1)\r\n",
        "plt.plot(x, y, 'o');\r\n",
        "plt.title(\"Mayo - Rainfall\"); \r\n",
        "#plt.plot(np.unique(x), np.poly1d(np.polyfit(x, y, 1))(np.unique(x)))\r\n",
        "\r\n",
        "plt.subplot(3, 2, 2)\r\n",
        "plt.plot(x, y1, 'o');\r\n",
        "plt.title(\"Mayo - TempC\"); \r\n",
        "\r\n",
        "plt.subplot(3, 2, 3)\r\n",
        "plt.plot(x, y2, 'o');\r\n",
        "plt.title(\"Mayo - Humidity\"); \r\n",
        "\r\n",
        "plt.subplot(3, 2, 4)\r\n",
        "plt.plot(x, y3, 'o');\r\n",
        "plt.title(\"Mayo - Air_Press\"); \r\n",
        "\r\n",
        "plt.subplot(3, 2, 5)\r\n",
        "plt.plot(x, y4, 'o');\r\n",
        "plt.title(\"Mayo - Wind_Speed\"); \r\n",
        "\r\n",
        "plt.subplot(3, 2, 6)\r\n",
        "plt.plot(x, y4, 'o');\r\n",
        "plt.title(\"Mayo - Wind_Speed\"); "
      ],
      "execution_count": 39,
      "outputs": [
        {
          "output_type": "stream",
          "text": [
            "Mean values over 30 years in Mayo:\n",
            "Year          2004.500000\n",
            "Rainfall         0.143649\n",
            "TempC           10.469798\n",
            "Vapour          10.967202\n",
            "Humidity        84.123416\n",
            "Air_Press     1012.284223\n",
            "Wind_Speed      12.577404\n",
            "dtype: float64\n",
            "\n",
            "Std Deviation over 30 years in Mayo:\n",
            "Year          8.667488\n",
            "Rainfall      0.054227\n",
            "TempC         2.009534\n",
            "Vapour        1.491652\n",
            "Humidity      2.529466\n",
            "Air_Press     4.733035\n",
            "Wind_Speed    2.092448\n",
            "dtype: float64\n"
          ],
          "name": "stdout"
        },
        {
          "output_type": "stream",
          "text": [
            "/usr/local/lib/python3.6/dist-packages/ipykernel_launcher.py:6: FutureWarning: DataFrame.mean and DataFrame.median with numeric_only=None will include datetime64 and datetime64tz columns in a future version.\n",
            "  \n"
          ],
          "name": "stderr"
        },
        {
          "output_type": "display_data",
          "data": {
            "image/png": "[encoded data removed]",
            "text/plain": [
              "<Figure size 4320x1800 with 6 Axes>"
            ]
          },
          "metadata": {
            "tags": [],
            "needs_background": "light"
          }
        }
      ]
    },
    {
      "cell_type": "markdown",
      "metadata": {
        "id": "7mabxnmrdgse"
      },
      "source": [
        "## Machine Learning using differing Classifiers"
      ]
    },
    {
      "cell_type": "code",
      "metadata": {
        "id": "ngfUjyrFIiOa"
      },
      "source": [
        "from sklearn.model_selection import train_test_split\r\n",
        "\r\n",
        "data = raw_data\r\n",
        "\r\n",
        "# Select the relevant numerical columns.\r\n",
        "selected_cols = ['rain','temp', 'dewpt', 'vappr', 'rhum', 'msl', 'wdsp', 'wddir']\r\n",
        "data = data[selected_cols].dropna()\r\n",
        "\r\n",
        "data[\"Rain_Y_N\"] = data[\"rain\"]\r\n",
        "\r\n",
        "def rainfall(data):\r\n",
        "    if data['rain']==0:\r\n",
        "        return 1\r\n",
        "    else:\r\n",
        "        return 2\r\n",
        "\r\n",
        "data['Rain_Y_N'] = data.apply(rainfall, axis = 1)\r\n",
        "\r\n",
        "data = data.drop('rain', axis=1)\r\n",
        "\r\n",
        "# Shuffle the dataset.\r\n",
        "data_shuffled = data.sample(frac=1.0, random_state=0)\r\n",
        "\r\n",
        "# Split into input part X and output part Y.\r\n",
        "X = data_shuffled.drop('Rain_Y_N', axis=1)\r\n",
        "\r\n",
        "# Map the diagnosis code to a human-readable label.\r\n",
        "def to_label(y):\r\n",
        "    return [None,'No','Yes'][(int(y))]\r\n",
        "\r\n",
        "Y = data_shuffled['Rain_Y_N'].apply(to_label)\r\n",
        "\r\n",
        "\r\n",
        "# Partition the data into training and test sets.\r\n",
        "Xtrain, Xtest, Ytrain, Ytest = train_test_split(X, Y, test_size=0.2, random_state=0)\r\n",
        "\r\n",
        "#print(Y.head())\r\n",
        "#print(X.head())\r\n",
        "#print(data.head())"
      ],
      "execution_count": 40,
      "outputs": []
    },
    {
      "cell_type": "markdown",
      "metadata": {
        "id": "MgxZ2G1shl-y"
      },
      "source": [
        "* Decision Tree Classifier"
      ]
    },
    {
      "cell_type": "code",
      "metadata": {
        "id": "NW4q1TA01e4c",
        "colab": {
          "base_uri": "https://localhost:8080/"
        },
        "outputId": "3419eef3-c53f-473c-96fa-b78a1169e785"
      },
      "source": [
        "from sklearn import tree\r\n",
        "from sklearn.model_selection import cross_val_score\r\n",
        "\r\n",
        "tclf = tree.DecisionTreeClassifier()\r\n",
        "tclf = tclf.fit(Xtrain,Ytrain)\r\n",
        "cross_val_score(tclf, Xtrain, Ytrain, cv=5, scoring='accuracy').mean()"
      ],
      "execution_count": null,
      "outputs": [
        {
          "output_type": "execute_result",
          "data": {
            "text/plain": [
              "0.7947820593293201"
            ]
          },
          "metadata": {
            "tags": []
          },
          "execution_count": 201
        }
      ]
    },
    {
      "cell_type": "markdown",
      "metadata": {
        "id": "KHiRYlOLrGen"
      },
      "source": [
        "* Random Forest CLassifier"
      ]
    },
    {
      "cell_type": "code",
      "metadata": {
        "colab": {
          "base_uri": "https://localhost:8080/"
        },
        "id": "bTfS3aXSrFky",
        "outputId": "d772bcb1-5083-42c0-d1f5-e511520fa4e4"
      },
      "source": [
        "from sklearn import ensemble\r\n",
        "from sklearn.model_selection import cross_val_score\r\n",
        "\r\n",
        "\r\n",
        "rfclf = ensemble.RandomForestClassifier()\r\n",
        "rfclf = rfclf.fit(Xtrain,Ytrain)\r\n",
        "cross_val_score(rfclf, Xtrain, Ytrain, cv=5, scoring='accuracy').mean()"
      ],
      "execution_count": 42,
      "outputs": [
        {
          "output_type": "execute_result",
          "data": {
            "text/plain": [
              "0.8527509795529541"
            ]
          },
          "metadata": {
            "tags": []
          },
          "execution_count": 42
        }
      ]
    },
    {
      "cell_type": "markdown",
      "metadata": {
        "id": "U8gfWR_It7YA"
      },
      "source": [
        "* Gradient Boosting Classifier"
      ]
    },
    {
      "cell_type": "code",
      "metadata": {
        "colab": {
          "base_uri": "https://localhost:8080/"
        },
        "id": "L3II4jHpvXYr",
        "outputId": "571adef4-8d19-4832-8d79-72402001719d"
      },
      "source": [
        "from sklearn.ensemble import GradientBoostingClassifier\r\n",
        "from sklearn.model_selection import cross_val_score\r\n",
        "\r\n",
        "\r\n",
        "gbclf = ensemble.GradientBoostingClassifier()\r\n",
        "gbclf = gbclf.fit(Xtrain,Ytrain)\r\n",
        "cross_val_score(gbclf, Xtrain, Ytrain, cv=5, scoring='accuracy').mean()"
      ],
      "execution_count": null,
      "outputs": [
        {
          "output_type": "execute_result",
          "data": {
            "text/plain": [
              "0.8496476207497781"
            ]
          },
          "metadata": {
            "tags": []
          },
          "execution_count": 203
        }
      ]
    },
    {
      "cell_type": "markdown",
      "metadata": {
        "id": "KYxrQxd_zJ2n"
      },
      "source": [
        "* Linear classifier using Perceptron"
      ]
    },
    {
      "cell_type": "code",
      "metadata": {
        "colab": {
          "base_uri": "https://localhost:8080/"
        },
        "id": "6GbpW9mkzLVd",
        "outputId": "0b6eabf1-9524-466d-e3e5-960393e2a7e2"
      },
      "source": [
        "from sklearn import linear_model\r\n",
        "from sklearn.model_selection import cross_val_score\r\n",
        "\r\n",
        "lmclf = linear_model.Perceptron()\r\n",
        "lmclf = lmclf.fit(Xtrain,Ytrain)\r\n",
        "cross_val_score(lmclf, Xtrain, Ytrain, cv=5, scoring='accuracy').mean()"
      ],
      "execution_count": null,
      "outputs": [
        {
          "output_type": "execute_result",
          "data": {
            "text/plain": [
              "0.8005891624768429"
            ]
          },
          "metadata": {
            "tags": []
          },
          "execution_count": 204
        }
      ]
    },
    {
      "cell_type": "markdown",
      "metadata": {
        "id": "VfEVGYR11YdO"
      },
      "source": [
        "* Linear classifier using LogisticRegression"
      ]
    },
    {
      "cell_type": "code",
      "metadata": {
        "colab": {
          "base_uri": "https://localhost:8080/"
        },
        "id": "cY2a50xB1cse",
        "outputId": "bec1c217-a6e1-4326-b825-0949ac0225d6"
      },
      "source": [
        "from sklearn.linear_model import LogisticRegression\r\n",
        "from sklearn.model_selection import cross_val_score\r\n",
        "\r\n",
        "lrclf = LogisticRegression(solver='newton-cg',max_iter=5000)\r\n",
        "lrclf = lrclf.fit(Xtrain,Ytrain)\r\n",
        "cross_val_score(lrclf, Xtrain, Ytrain, cv=5, scoring='accuracy').mean()"
      ],
      "execution_count": null,
      "outputs": [
        {
          "output_type": "stream",
          "text": [
            "/usr/local/lib/python3.6/dist-packages/scipy/optimize/linesearch.py:466: LineSearchWarning: The line search algorithm did not converge\n",
            "  warn('The line search algorithm did not converge', LineSearchWarning)\n",
            "/usr/local/lib/python3.6/dist-packages/scipy/optimize/linesearch.py:314: LineSearchWarning: The line search algorithm did not converge\n",
            "  warn('The line search algorithm did not converge', LineSearchWarning)\n",
            "/usr/local/lib/python3.6/dist-packages/scipy/optimize/linesearch.py:466: LineSearchWarning: The line search algorithm did not converge\n",
            "  warn('The line search algorithm did not converge', LineSearchWarning)\n",
            "/usr/local/lib/python3.6/dist-packages/scipy/optimize/linesearch.py:314: LineSearchWarning: The line search algorithm did not converge\n",
            "  warn('The line search algorithm did not converge', LineSearchWarning)\n",
            "/usr/local/lib/python3.6/dist-packages/scipy/optimize/linesearch.py:466: LineSearchWarning: The line search algorithm did not converge\n",
            "  warn('The line search algorithm did not converge', LineSearchWarning)\n",
            "/usr/local/lib/python3.6/dist-packages/scipy/optimize/linesearch.py:314: LineSearchWarning: The line search algorithm did not converge\n",
            "  warn('The line search algorithm did not converge', LineSearchWarning)\n",
            "/usr/local/lib/python3.6/dist-packages/scipy/optimize/linesearch.py:314: LineSearchWarning: The line search algorithm did not converge\n",
            "  warn('The line search algorithm did not converge', LineSearchWarning)\n",
            "/usr/local/lib/python3.6/dist-packages/sklearn/utils/optimize.py:204: UserWarning: Line Search failed\n",
            "  warnings.warn('Line Search failed')\n",
            "/usr/local/lib/python3.6/dist-packages/scipy/optimize/linesearch.py:466: LineSearchWarning: The line search algorithm did not converge\n",
            "  warn('The line search algorithm did not converge', LineSearchWarning)\n",
            "/usr/local/lib/python3.6/dist-packages/scipy/optimize/linesearch.py:314: LineSearchWarning: The line search algorithm did not converge\n",
            "  warn('The line search algorithm did not converge', LineSearchWarning)\n",
            "/usr/local/lib/python3.6/dist-packages/scipy/optimize/linesearch.py:466: LineSearchWarning: The line search algorithm did not converge\n",
            "  warn('The line search algorithm did not converge', LineSearchWarning)\n",
            "/usr/local/lib/python3.6/dist-packages/scipy/optimize/linesearch.py:314: LineSearchWarning: The line search algorithm did not converge\n",
            "  warn('The line search algorithm did not converge', LineSearchWarning)\n",
            "/usr/local/lib/python3.6/dist-packages/scipy/optimize/linesearch.py:466: LineSearchWarning: The line search algorithm did not converge\n",
            "  warn('The line search algorithm did not converge', LineSearchWarning)\n",
            "/usr/local/lib/python3.6/dist-packages/scipy/optimize/linesearch.py:314: LineSearchWarning: The line search algorithm did not converge\n",
            "  warn('The line search algorithm did not converge', LineSearchWarning)\n",
            "/usr/local/lib/python3.6/dist-packages/scipy/optimize/linesearch.py:466: LineSearchWarning: The line search algorithm did not converge\n",
            "  warn('The line search algorithm did not converge', LineSearchWarning)\n",
            "/usr/local/lib/python3.6/dist-packages/scipy/optimize/linesearch.py:314: LineSearchWarning: The line search algorithm did not converge\n",
            "  warn('The line search algorithm did not converge', LineSearchWarning)\n",
            "/usr/local/lib/python3.6/dist-packages/scipy/optimize/linesearch.py:426: LineSearchWarning: Rounding errors prevent the line search from converging\n",
            "  warn(msg, LineSearchWarning)\n",
            "/usr/local/lib/python3.6/dist-packages/scipy/optimize/linesearch.py:314: LineSearchWarning: The line search algorithm did not converge\n",
            "  warn('The line search algorithm did not converge', LineSearchWarning)\n",
            "/usr/local/lib/python3.6/dist-packages/sklearn/utils/optimize.py:204: UserWarning: Line Search failed\n",
            "  warnings.warn('Line Search failed')\n",
            "/usr/local/lib/python3.6/dist-packages/scipy/optimize/linesearch.py:466: LineSearchWarning: The line search algorithm did not converge\n",
            "  warn('The line search algorithm did not converge', LineSearchWarning)\n",
            "/usr/local/lib/python3.6/dist-packages/scipy/optimize/linesearch.py:314: LineSearchWarning: The line search algorithm did not converge\n",
            "  warn('The line search algorithm did not converge', LineSearchWarning)\n",
            "/usr/local/lib/python3.6/dist-packages/scipy/optimize/linesearch.py:466: LineSearchWarning: The line search algorithm did not converge\n",
            "  warn('The line search algorithm did not converge', LineSearchWarning)\n",
            "/usr/local/lib/python3.6/dist-packages/scipy/optimize/linesearch.py:314: LineSearchWarning: The line search algorithm did not converge\n",
            "  warn('The line search algorithm did not converge', LineSearchWarning)\n",
            "/usr/local/lib/python3.6/dist-packages/scipy/optimize/linesearch.py:466: LineSearchWarning: The line search algorithm did not converge\n",
            "  warn('The line search algorithm did not converge', LineSearchWarning)\n",
            "/usr/local/lib/python3.6/dist-packages/scipy/optimize/linesearch.py:314: LineSearchWarning: The line search algorithm did not converge\n",
            "  warn('The line search algorithm did not converge', LineSearchWarning)\n",
            "/usr/local/lib/python3.6/dist-packages/scipy/optimize/linesearch.py:314: LineSearchWarning: The line search algorithm did not converge\n",
            "  warn('The line search algorithm did not converge', LineSearchWarning)\n",
            "/usr/local/lib/python3.6/dist-packages/sklearn/utils/optimize.py:204: UserWarning: Line Search failed\n",
            "  warnings.warn('Line Search failed')\n",
            "/usr/local/lib/python3.6/dist-packages/scipy/optimize/linesearch.py:466: LineSearchWarning: The line search algorithm did not converge\n",
            "  warn('The line search algorithm did not converge', LineSearchWarning)\n",
            "/usr/local/lib/python3.6/dist-packages/scipy/optimize/linesearch.py:314: LineSearchWarning: The line search algorithm did not converge\n",
            "  warn('The line search algorithm did not converge', LineSearchWarning)\n",
            "/usr/local/lib/python3.6/dist-packages/scipy/optimize/linesearch.py:466: LineSearchWarning: The line search algorithm did not converge\n",
            "  warn('The line search algorithm did not converge', LineSearchWarning)\n",
            "/usr/local/lib/python3.6/dist-packages/scipy/optimize/linesearch.py:314: LineSearchWarning: The line search algorithm did not converge\n",
            "  warn('The line search algorithm did not converge', LineSearchWarning)\n",
            "/usr/local/lib/python3.6/dist-packages/scipy/optimize/linesearch.py:314: LineSearchWarning: The line search algorithm did not converge\n",
            "  warn('The line search algorithm did not converge', LineSearchWarning)\n",
            "/usr/local/lib/python3.6/dist-packages/sklearn/utils/optimize.py:204: UserWarning: Line Search failed\n",
            "  warnings.warn('Line Search failed')\n",
            "/usr/local/lib/python3.6/dist-packages/scipy/optimize/linesearch.py:466: LineSearchWarning: The line search algorithm did not converge\n",
            "  warn('The line search algorithm did not converge', LineSearchWarning)\n",
            "/usr/local/lib/python3.6/dist-packages/scipy/optimize/linesearch.py:314: LineSearchWarning: The line search algorithm did not converge\n",
            "  warn('The line search algorithm did not converge', LineSearchWarning)\n",
            "/usr/local/lib/python3.6/dist-packages/scipy/optimize/linesearch.py:466: LineSearchWarning: The line search algorithm did not converge\n",
            "  warn('The line search algorithm did not converge', LineSearchWarning)\n",
            "/usr/local/lib/python3.6/dist-packages/scipy/optimize/linesearch.py:314: LineSearchWarning: The line search algorithm did not converge\n",
            "  warn('The line search algorithm did not converge', LineSearchWarning)\n",
            "/usr/local/lib/python3.6/dist-packages/scipy/optimize/linesearch.py:466: LineSearchWarning: The line search algorithm did not converge\n",
            "  warn('The line search algorithm did not converge', LineSearchWarning)\n",
            "/usr/local/lib/python3.6/dist-packages/scipy/optimize/linesearch.py:314: LineSearchWarning: The line search algorithm did not converge\n",
            "  warn('The line search algorithm did not converge', LineSearchWarning)\n",
            "/usr/local/lib/python3.6/dist-packages/scipy/optimize/linesearch.py:466: LineSearchWarning: The line search algorithm did not converge\n",
            "  warn('The line search algorithm did not converge', LineSearchWarning)\n",
            "/usr/local/lib/python3.6/dist-packages/scipy/optimize/linesearch.py:314: LineSearchWarning: The line search algorithm did not converge\n",
            "  warn('The line search algorithm did not converge', LineSearchWarning)\n",
            "/usr/local/lib/python3.6/dist-packages/scipy/optimize/linesearch.py:426: LineSearchWarning: Rounding errors prevent the line search from converging\n",
            "  warn(msg, LineSearchWarning)\n",
            "/usr/local/lib/python3.6/dist-packages/scipy/optimize/linesearch.py:314: LineSearchWarning: The line search algorithm did not converge\n",
            "  warn('The line search algorithm did not converge', LineSearchWarning)\n",
            "/usr/local/lib/python3.6/dist-packages/sklearn/utils/optimize.py:204: UserWarning: Line Search failed\n",
            "  warnings.warn('Line Search failed')\n",
            "/usr/local/lib/python3.6/dist-packages/scipy/optimize/linesearch.py:466: LineSearchWarning: The line search algorithm did not converge\n",
            "  warn('The line search algorithm did not converge', LineSearchWarning)\n",
            "/usr/local/lib/python3.6/dist-packages/scipy/optimize/linesearch.py:314: LineSearchWarning: The line search algorithm did not converge\n",
            "  warn('The line search algorithm did not converge', LineSearchWarning)\n",
            "/usr/local/lib/python3.6/dist-packages/scipy/optimize/linesearch.py:466: LineSearchWarning: The line search algorithm did not converge\n",
            "  warn('The line search algorithm did not converge', LineSearchWarning)\n",
            "/usr/local/lib/python3.6/dist-packages/scipy/optimize/linesearch.py:314: LineSearchWarning: The line search algorithm did not converge\n",
            "  warn('The line search algorithm did not converge', LineSearchWarning)\n",
            "/usr/local/lib/python3.6/dist-packages/scipy/optimize/linesearch.py:466: LineSearchWarning: The line search algorithm did not converge\n",
            "  warn('The line search algorithm did not converge', LineSearchWarning)\n",
            "/usr/local/lib/python3.6/dist-packages/scipy/optimize/linesearch.py:314: LineSearchWarning: The line search algorithm did not converge\n",
            "  warn('The line search algorithm did not converge', LineSearchWarning)\n",
            "/usr/local/lib/python3.6/dist-packages/scipy/optimize/linesearch.py:314: LineSearchWarning: The line search algorithm did not converge\n",
            "  warn('The line search algorithm did not converge', LineSearchWarning)\n",
            "/usr/local/lib/python3.6/dist-packages/sklearn/utils/optimize.py:204: UserWarning: Line Search failed\n",
            "  warnings.warn('Line Search failed')\n"
          ],
          "name": "stderr"
        },
        {
          "output_type": "execute_result",
          "data": {
            "text/plain": [
              "0.8409970530836572"
            ]
          },
          "metadata": {
            "tags": []
          },
          "execution_count": 205
        }
      ]
    },
    {
      "cell_type": "markdown",
      "metadata": {
        "id": "DUyB6XS66eF8"
      },
      "source": [
        "* Linear classifier using LinearSVC"
      ]
    },
    {
      "cell_type": "code",
      "metadata": {
        "id": "9tAGdBnC6ffx"
      },
      "source": [
        "#from sklearn.svm import LinearSVC\r\n",
        "#from sklearn.model_selection import cross_val_score\r\n",
        "\r\n",
        "#lsclf = LinearSVC(max_iter=10000000)\r\n",
        "#lsclf = lsclf.fit(Xtrain,Ytrain)\r\n",
        "#cross_val_score(lsclf, Xtrain, Ytrain, cv=5, scoring='accuracy').mean()\r\n",
        "\r\n",
        "# ConvergenceWarning: Liblinear failed to converge, increase the number of iterations. - Unable to resolve with this classifier, system either hung or was so slow it appeared that way"
      ],
      "execution_count": null,
      "outputs": []
    },
    {
      "cell_type": "markdown",
      "metadata": {
        "id": "9FblekaxYn2k"
      },
      "source": [
        "Neural Network"
      ]
    },
    {
      "cell_type": "code",
      "metadata": {
        "colab": {
          "base_uri": "https://localhost:8080/"
        },
        "id": "uhyBvxcGYoa_",
        "outputId": "5fb4a801-8b33-40d3-ed49-3b70692abf12"
      },
      "source": [
        "from sklearn import neural_network\r\n",
        "from sklearn.model_selection import cross_val_score\r\n",
        "\r\n",
        "mlpclf = neural_network.MLPClassifier()\r\n",
        "mlpclf = mlpclf.fit(Xtrain,Ytrain)\r\n",
        "cross_val_score(mlpclf, Xtrain, Ytrain, cv=5, scoring='accuracy').mean()"
      ],
      "execution_count": null,
      "outputs": [
        {
          "output_type": "execute_result",
          "data": {
            "text/plain": [
              "0.8469502367638768"
            ]
          },
          "metadata": {
            "tags": []
          },
          "execution_count": 74
        }
      ]
    },
    {
      "cell_type": "markdown",
      "metadata": {
        "id": "twt5NP3uzhTE"
      },
      "source": [
        "**Of all the classifiers the Random Forest Classifier provided the most accurate ML model, with an accuracy of ~85.3%**"
      ]
    },
    {
      "cell_type": "code",
      "metadata": {
        "colab": {
          "base_uri": "https://localhost:8080/"
        },
        "id": "zgrLxSne0xTb",
        "outputId": "b49ffa1e-bec3-49f0-ea94-341b2b936407"
      },
      "source": [
        "from sklearn.metrics import accuracy_score\r\n",
        "  \r\n",
        "rfclf.fit(Xtrain, Ytrain)\r\n",
        "Yguess = rfclf.predict(Xtest)\r\n",
        "print(accuracy_score(Ytest, Yguess))"
      ],
      "execution_count": 43,
      "outputs": [
        {
          "output_type": "stream",
          "text": [
            "0.8528369704749679\n"
          ],
          "name": "stdout"
        }
      ]
    },
    {
      "cell_type": "markdown",
      "metadata": {
        "id": "hw6yWmMTOPY4"
      },
      "source": [
        "## Databases"
      ]
    },
    {
      "cell_type": "markdown",
      "metadata": {
        "id": "guppPa8g7_Cv"
      },
      "source": [
        "* SQL"
      ]
    },
    {
      "cell_type": "code",
      "metadata": {
        "colab": {
          "base_uri": "https://localhost:8080/"
        },
        "id": "LOP32pk18Fna",
        "outputId": "0434ab3a-eff6-4579-d906-28da79be6051"
      },
      "source": [
        "!pip install db-sqlite3\r\n",
        "\r\n",
        "import sqlite3\r\n",
        "\r\n",
        "db = sqlite3.connect(\"Irish_Weather.db\")\r\n",
        "\r\n",
        "!ls"
      ],
      "execution_count": 44,
      "outputs": [
        {
          "output_type": "stream",
          "text": [
            "Collecting db-sqlite3\n",
            "  Downloading https://files.pythonhosted.org/packages/ff/00/e1f3d7bf1e0bff7c0574c0d5535c041e139d4ce43db196147e4c62f52ed5/db-sqlite3-0.0.1.tar.gz\n",
            "Collecting db\n",
            "  Downloading https://files.pythonhosted.org/packages/a9/22/f65d64c83e63790b3273c6adb3bff338ad594f46d84b41bd1f94593b40a6/db-0.1.1.tar.gz\n",
            "Collecting antiorm\n",
            "\u001b[?25l  Downloading https://files.pythonhosted.org/packages/0b/f8/71baa4824d9666c1be51d117119579a97f461ddbded48b2e01a6ad0554b5/antiorm-1.2.1.tar.gz (171kB)\n",
            "\u001b[K     |████████████████████████████████| 174kB 8.8MB/s \n",
            "\u001b[?25hBuilding wheels for collected packages: db-sqlite3, db, antiorm\n",
            "  Building wheel for db-sqlite3 (setup.py) ... \u001b[?25l\u001b[?25hdone\n",
            "  Created wheel for db-sqlite3: filename=db_sqlite3-0.0.1-cp36-none-any.whl size=1797 sha256=f9614bd564b9cc8c52a7f19bcc06a2faea58eeaf44b2fbea34ad393827fad8fd\n",
            "  Stored in directory: /root/.cache/pip/wheels/e0/f8/cb/08e3a3a63bdea9ac3a0cccd140636b6cf94e3fb7df1070b12e\n",
            "  Building wheel for db (setup.py) ... \u001b[?25l\u001b[?25hdone\n",
            "  Created wheel for db: filename=db-0.1.1-cp36-none-any.whl size=3894 sha256=a2d23fa3248af152cb48f6d19ef3eba83bd28e3c13297ecf29459aade1f90694\n",
            "  Stored in directory: /root/.cache/pip/wheels/30/eb/ba/237fa002d1d1b2e73cedcefd26a9db37c4b72c7e5156ea0501\n",
            "  Building wheel for antiorm (setup.py) ... \u001b[?25l\u001b[?25hdone\n",
            "  Created wheel for antiorm: filename=antiorm-1.2.1-cp36-none-any.whl size=31666 sha256=78fc8eefc74152b8137234f6c929a953e78e5d3a2373a8fa057acd6ae83822a6\n",
            "  Stored in directory: /root/.cache/pip/wheels/b0/91/4d/f8fe808786ff1cda9e7e99e1b1bbda9196ab26786017965313\n",
            "Successfully built db-sqlite3 db antiorm\n",
            "Installing collected packages: antiorm, db, db-sqlite3\n",
            "Successfully installed antiorm-1.2.1 db-0.1.1 db-sqlite3-0.0.1\n",
            "hrly_Irish_weather.csv\tIrish_Weather.db  sample_data\n"
          ],
          "name": "stdout"
        }
      ]
    },
    {
      "cell_type": "code",
      "metadata": {
        "id": "y2RRhX-O-pvP"
      },
      "source": [
        "db.execute(\"drop table if exists weather_readings\")\r\n",
        "try:\r\n",
        "  db.execute(\"CREATE TABLE weather_readings (County TEXT NOT NULL, Station TEXT NOT NULL, Rainfall FLOAT, TempC FLOAT, DewpointC FLOAT, Vapour FLOAT, Humidity FLOAT, Air_Press FLOAT, Wind_Speed FLOAT, Direction FLOAT, Date DATE, Time TIME, Wind TEXT NOT NULL, Rain TEXT NOT NULL, Temp TEXT NOT NULL, Season TEXT NOT NULL, Day INTEGER, Month INTEGER, Year INTEGER, Rain_Y_N OBJECT)\")\r\n",
        "except:\r\n",
        "  print(\"Already table existed !!\")"
      ],
      "execution_count": 64,
      "outputs": []
    },
    {
      "cell_type": "code",
      "metadata": {
        "id": "UawUS2ClBvHN"
      },
      "source": [
        "curs = db.cursor()"
      ],
      "execution_count": 65,
      "outputs": []
    },
    {
      "cell_type": "code",
      "metadata": {
        "colab": {
          "base_uri": "https://localhost:8080/"
        },
        "id": "qVNnrfHgCJqT",
        "outputId": "15882286-4ec6-482a-8510-e3b6e061811b"
      },
      "source": [
        "curs.execute(\"SELECT name FROM sqlite_master WHERE type = 'table'\").fetchall()"
      ],
      "execution_count": 66,
      "outputs": [
        {
          "output_type": "execute_result",
          "data": {
            "text/plain": [
              "[('weather_readings',)]"
            ]
          },
          "metadata": {
            "tags": []
          },
          "execution_count": 66
        }
      ]
    },
    {
      "cell_type": "code",
      "metadata": {
        "id": "te1WiyNBDbv-"
      },
      "source": [
        "for row in curs.execute(\"PRAGMA table_info(machines)\"):\r\n",
        "    print(row)"
      ],
      "execution_count": 67,
      "outputs": []
    },
    {
      "cell_type": "markdown",
      "metadata": {
        "id": "l_VHxvQxFrvn"
      },
      "source": [
        "Bulk transfer from Pandas dataframe"
      ]
    },
    {
      "cell_type": "code",
      "metadata": {
        "id": "ZaKkagMoDpJr"
      },
      "source": [
        "#import sqlalchemy\r\n",
        "#import pyodbc\r\n",
        "#engine = sqlalchemy.create_engine(\"mssql+pyodbc://<username>:<password>@<dsnname>\")\r\n",
        "\r\n",
        "# write the DataFrame to a table in the sql database\r\n",
        "#raw_data_linear.to_sql(\"weather_readings\", engine)"
      ],
      "execution_count": null,
      "outputs": []
    }
  ]
}